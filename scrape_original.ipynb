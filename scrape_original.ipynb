{
 "cells": [
  {
   "cell_type": "markdown",
   "metadata": {},
   "source": [
    "# Scrape Data from Shopee with beautifulsoup and selenium\n",
    "### Data เพื่อการทำ Marketing ของผู้ขาย ซึ่งประกอบไปด้วย\n",
    "- ชื่อสินค้าสินค้า ราคาสินค้าที่ขายจริง ยอดขายแต่ละสินค้า จังหวัดที่เป็นต้นทางของสินค้า เวลาที่คอมเม้น คอมเม้นสินค้า"
   ]
  },
  {
   "cell_type": "markdown",
   "metadata": {},
   "source": [
    "!pip install selenium\n",
    "!pip install bs4\n",
    "!pip install pandas"
   ]
  },
  {
   "cell_type": "markdown",
   "metadata": {},
   "source": [
    "# Code ที่ต้อง Import"
   ]
  },
  {
   "cell_type": "code",
   "execution_count": 10,
   "metadata": {},
   "outputs": [],
   "source": [
    "import pandas as pd\n",
    "from selenium import webdriver\n",
    "from selenium.webdriver.support.ui import WebDriverWait\n",
    "from selenium.webdriver.support import expected_conditions as EC\n",
    "from selenium.webdriver.chrome.service import Service\n",
    "from selenium.webdriver.chrome.options import Options\n",
    "from selenium.webdriver.common.by import By\n",
    "from selenium.webdriver.common.keys import Keys\n",
    "import bs4\n",
    "import time\n",
    "import re"
   ]
  },
  {
   "cell_type": "code",
   "execution_count": 11,
   "metadata": {},
   "outputs": [],
   "source": [
    "# Set up Chrome options\n",
    "options = Options()\n",
    "options.binary_location = \"C:\\\\Program Files\\\\Google\\\\Chrome\\\\Application\\\\chrome.exe\"\n",
    "\n",
    "# Specify the path to ChromeDriver (NOT geckodriver, which is for Firefox)\n",
    "service = Service(r'C:\\Users\\earns\\Desktop\\Shopee_Web_Scarping\\chromedriver.exe')\n",
    "\n",
    "# Initialize WebDriver with the service and options\n",
    "driver = webdriver.Chrome(service=service, options=options)\n",
    "\n",
    "# Open lazada website\n",
    "driver.get('https://www.lazada.co.th/products/90-biore-uv-aqua-rich-watery-gel-spf50-pa-90ml-i228851585.html?spm=a2o4m.searchlist.list.11.592a32030G8dMB')"
   ]
  },
  {
   "cell_type": "code",
   "execution_count": 50,
   "metadata": {},
   "outputs": [],
   "source": [
    "#เลือกภาษาไทย Selenium\n",
    "thai_button = driver.find_element(By.XPATH, '/html/body/div[2]/div[1]/div[1]/div/div[3]/div[1]/button')\n",
    "thai_button.click()\n",
    "#time.sleep(3)"
   ]
  },
  {
   "cell_type": "code",
   "execution_count": 47,
   "metadata": {},
   "outputs": [],
   "source": [
    "#กรอก email pass\n",
    "username_field = driver.find_element(By.XPATH, '/html/body/div[1]/div/div[2]/div/div/div/div[2]/div/div[2]/form/div[1]/div[1]/input')\n",
    "username_field.send_keys(Keys.CONTROL + 'a')  # เลือกข้อความทั้งหมด\n",
    "username_field.send_keys(Keys.BACKSPACE)  # ลบข้อความที่เลือก\n",
    "username_field.send_keys(\"earn.sirikorn2002@gmail.com\")\n",
    "\n",
    "password_field = driver.find_element(By.XPATH, '/html/body/div[1]/div/div[2]/div/div/div/div[2]/div/div[2]/form/div[2]/div[1]/input')\n",
    "password_field.send_keys(Keys.CONTROL + 'a')  # เลือกข้อความทั้งหมด\n",
    "password_field.send_keys(Keys.BACKSPACE)  # ลบข้อความที่เลือก\n",
    "password_field.send_keys(\"earn56861212N\")"
   ]
  },
  {
   "cell_type": "code",
   "execution_count": 48,
   "metadata": {},
   "outputs": [],
   "source": [
    "#login\n",
    "login_button = driver.find_element(By.XPATH, '/html/body/div[1]/div/div[2]/div/div/div/div[2]/div/div[2]/form/button')\n",
    "login_button.click()"
   ]
  },
  {
   "cell_type": "code",
   "execution_count": null,
   "metadata": {},
   "outputs": [],
   "source": [
    "#ปิดโฆษณา Selenium\n",
    "close_adver = driver.execute_script('return document.querySelector(\"shopee-banner-popup-stateful\").shadowRoot.querySelector(\"div.shopee-popup__close-btn\")')\n",
    "close_adver.click()"
   ]
  },
  {
   "cell_type": "code",
   "execution_count": 63,
   "metadata": {},
   "outputs": [],
   "source": [
    "#Search ใน Search bar ของ Shopee\n",
    "search = driver.find_element(By.XPATH, '/html/body/div[2]/div/div/div/div[2]/div/div[2]/div/form/div/div[1]/input[1]')\n",
    "search.send_keys('Biore UV Aqua Rich Watery Gel')"
   ]
  },
  {
   "cell_type": "code",
   "execution_count": 64,
   "metadata": {},
   "outputs": [],
   "source": [
    "#กด Enter\n",
    "search.send_keys(Keys.ENTER)"
   ]
  },
  {
   "cell_type": "code",
   "execution_count": 65,
   "metadata": {},
   "outputs": [],
   "source": [
    "#เลือกสินค้า 1 ชิ้น\n",
    "select_button = driver.find_element(By.XPATH,  '/html/body/div[3]/div/div[2]/div[1]/div/div[1]/div[2]/div[1]/div/div')\n",
    "select_button.click()"
   ]
  },
  {
   "cell_type": "code",
   "execution_count": 12,
   "metadata": {},
   "outputs": [],
   "source": [
    "#Zoom out เพื่อให้ load ทั่วหน้าจอ\n",
    "driver.execute_script(\"document.body.style.zoom='10%'\")"
   ]
  },
  {
   "cell_type": "code",
   "execution_count": null,
   "metadata": {},
   "outputs": [],
   "source": [
    "#เลือกเป็น sort จาก 1 ดาว"
   ]
  },
  {
   "cell_type": "markdown",
   "metadata": {},
   "source": [
    "# Scraping Process"
   ]
  },
  {
   "cell_type": "code",
   "execution_count": 56,
   "metadata": {},
   "outputs": [],
   "source": [
    "data = driver.page_source #ดึงข้อมูลจากหน้าเว็บ\n",
    "soup = bs4.BeautifulSoup(data) #จัดในรูปแบบ BeautifulSoup"
   ]
  },
  {
   "cell_type": "code",
   "execution_count": null,
   "metadata": {},
   "outputs": [],
   "source": [
    "soup.select(\"#module_product_review > div > div > div:nth-child(3) > div.mod-reviews > div\") #css selector"
   ]
  },
  {
   "cell_type": "code",
   "execution_count": 58,
   "metadata": {},
   "outputs": [],
   "source": [
    "el=soup.select(\"#module_product_review > div > div > div:nth-child(3) > div.mod-reviews > div\")"
   ]
  },
  {
   "cell_type": "code",
   "execution_count": null,
   "metadata": {},
   "outputs": [],
   "source": [
    "len(el) #Component Comment ที่เก็บมาได้"
   ]
  },
  {
   "cell_type": "code",
   "execution_count": 60,
   "metadata": {},
   "outputs": [],
   "source": [
    "e = el[0] #แทนกล่องของสินค้าแต่ละกล่อง"
   ]
  },
  {
   "cell_type": "markdown",
   "metadata": {},
   "source": [
    "# Scrape comment"
   ]
  },
  {
   "cell_type": "code",
   "execution_count": null,
   "metadata": {},
   "outputs": [],
   "source": [
    "#ดึงข้อมูล comment\n",
    "e.select_one(\"#module_product_review > div > div > div:nth-child(3) > div.mod-reviews > div > div.item-content > div.content\").text.strip()\n",
    "##module_product_review > div > div > div:nth-child(3) > div.mod-reviews > div:nth-child(1) > div.item-content > div.content"
   ]
  },
  {
   "cell_type": "markdown",
   "metadata": {},
   "source": [
    "# Scrap ดาว"
   ]
  },
  {
   "cell_type": "code",
   "execution_count": null,
   "metadata": {},
   "outputs": [],
   "source": [
    "# ดึงดาว\n",
    "stars=e.select_one('#module_product_review > div > div > div:nth-child(3) > div.mod-reviews > div > div.top > div')\n",
    "# กำหนด src สำหรับการนับคะแนน\n",
    "src_plus_one = \"//img.lazcdn.com/g/tps/tfs/TB19ZvEgfDH8KJjy1XcXXcpdXXa-64-64.png\"\n",
    "src_plus_zero = \"//img.lazcdn.com/g/tps/tfs/TB18ZvEgfDH8KJjy1XcXXcpdXXa-64-64.png\"\n",
    "\n",
    "# เก็บค่า rating\n",
    "rating = 0\n",
    "for star in stars:\n",
    "    if star['src'] == src_plus_one:\n",
    "        rating += 1\n",
    "    elif star['src'] == src_plus_zero:\n",
    "        rating += 0\n",
    "\n",
    "# แสดงผล rating\n",
    "print(f\"Star Rating: {rating}\")"
   ]
  },
  {
   "cell_type": "markdown",
   "metadata": {},
   "source": [
    "# Scarp เวลา"
   ]
  },
  {
   "cell_type": "code",
   "execution_count": null,
   "metadata": {},
   "outputs": [],
   "source": [
    "e.select_one('#module_product_review > div > div > div:nth-child(3) > div.mod-reviews > div > div.top > span').text.strip()"
   ]
  },
  {
   "cell_type": "markdown",
   "metadata": {},
   "source": [
    "# Scarp ชื่อ"
   ]
  },
  {
   "cell_type": "code",
   "execution_count": null,
   "metadata": {},
   "outputs": [],
   "source": [
    "e.select_one('#module_product_review > div > div > div:nth-child(3) > div.mod-reviews > div > div.middle > span:nth-child(1)').text.strip()"
   ]
  },
  {
   "cell_type": "markdown",
   "metadata": {},
   "source": [
    "# Scrape ราคา"
   ]
  },
  {
   "cell_type": "code",
   "execution_count": null,
   "metadata": {},
   "outputs": [],
   "source": [
    "#ราคา A baht - B baht, ราคาเต็ม\n",
    "e.select_one(\"div.col-xs-2-4> a> div:nth-child(1) > div:nth-child(1) > div:nth-child(2) > div:nth-child(2) > div:nth-child(1)\").text.strip()"
   ]
  },
  {
   "cell_type": "code",
   "execution_count": null,
   "metadata": {},
   "outputs": [],
   "source": [
    "#ราคาลดแล้ว\n",
    "p = e.select_one(\"div.col-xs-2-4 > a > div > div > div:nth-child(2) > div:nth-child(2)> div:nth-child(2)\").text.strip()\n",
    "if p == '':\n",
    "    print(1/0)\n",
    "p"
   ]
  },
  {
   "cell_type": "code",
   "execution_count": null,
   "metadata": {},
   "outputs": [],
   "source": [
    "#ราคารวมการตัด\n",
    "try:\n",
    "    p = e.select_one(\"div.col-xs-2-4 > a > div > div > div:nth-child(2) > div:nth-child(2)> div:nth-child(2)\").text.strip()\n",
    "    if p == '':\n",
    "        print(1/0)\n",
    "except:\n",
    "    p = e.select_one(\"div.col-xs-2-4 > a:nth-child(1) > div:nth-child(1) > div:nth-child(1) > div:nth-child(2) > div:nth-child(2) > div:nth-child(1)\").text.strip()\n",
    "p = p.replace(\",\", \"\").replace(\"฿\", \"\").replace(\" \", \"\")\n",
    "p"
   ]
  },
  {
   "cell_type": "code",
   "execution_count": null,
   "metadata": {},
   "outputs": [],
   "source": [
    "#ตัด - และเลือกเลขด้านหน้า Range\n",
    "try:\n",
    "    start_price = float(p)\n",
    "except:\n",
    "    price = p.rpartition('-')[0]\n",
    "    start_price = float(price)\n",
    "\n",
    "start_price"
   ]
  },
  {
   "cell_type": "code",
   "execution_count": null,
   "metadata": {},
   "outputs": [],
   "source": [
    "#รวม\n",
    "try:\n",
    "    p = e.select_one(\"div.col-xs-2-4 > a > div > div > div:nth-child(2) > div:nth-child(2)> div:nth-child(2)\").text.strip()\n",
    "except:\n",
    "    p = e.select_one(\"div.col-xs-2-4 > a:nth-child(1) > div:nth-child(1) > div:nth-child(1) > div:nth-child(2) > div:nth-child(2) > div:nth-child(1)\").text.strip()\n",
    "p = p.replace(\",\", \"\").replace(\"฿\", \"\").replace(\" \", \"\")\n",
    "try:\n",
    "    start_price = float(p)\n",
    "except:\n",
    "    price = p.rpartition('-')[0]\n",
    "    start_price = float(price)\n",
    "\n",
    "start_price"
   ]
  },
  {
   "cell_type": "markdown",
   "metadata": {},
   "source": [
    "# Scrape ยอดขาย"
   ]
  },
  {
   "cell_type": "code",
   "execution_count": null,
   "metadata": {},
   "outputs": [],
   "source": [
    "sales = e.select_one(\"div.col-xs-2-4 > a > div:nth-child(1) > div:nth-child(1) > div:nth-child(2) > div:nth-child(3) > div:nth-child(3)\").text.strip().replace(\"พัน\",\"000\").replace(\"ล้าน\",\"000000\")\n",
    "try:\n",
    "    sales = float(re.sub('\\D','',sales))\n",
    "except:\n",
    "    sales = 0\n",
    "sales"
   ]
  },
  {
   "cell_type": "markdown",
   "metadata": {},
   "source": [
    "# Scrape จังหวัด"
   ]
  },
  {
   "cell_type": "code",
   "execution_count": null,
   "metadata": {},
   "outputs": [],
   "source": [
    "#จังหวัด\n",
    "e.select_one(\"div.col-xs-2-4 > a:nth-child(1) > div:nth-child(1) > div:nth-child(1) > div:nth-child(2) > div:nth-child(4)\").text.strip()"
   ]
  },
  {
   "cell_type": "markdown",
   "metadata": {},
   "source": [
    "# Scrape ข้อมูลทั้งหมดที่ต้องการ"
   ]
  },
  {
   "cell_type": "markdown",
   "metadata": {},
   "source": [
    "ทำเป็น list ของในหน้านั้น ๆ ที่กำลังดูอยู่ใน Web Shopee\n",
    "นำ Code ต่าง ๆ มารวมกัน"
   ]
  },
  {
   "cell_type": "code",
   "execution_count": 71,
   "metadata": {},
   "outputs": [],
   "source": [
    "records=[]\n",
    "data = driver.page_source\n",
    "soup = bs4.BeautifulSoup(data)\n",
    "el=soup.select(\"#module_product_review > div > div > div:nth-child(3) > div.mod-reviews > div\")\n",
    "# Define star rating image sources\n",
    "src_plus_one = \"//img.lazcdn.com/g/tps/tfs/TB19ZvEgfDH8KJjy1XcXXcpdXXa-64-64.png\"\n",
    "src_plus_zero = \"//img.lazcdn.com/g/tps/tfs/TB18ZvEgfDH8KJjy1XcXXcpdXXa-64-64.png\"\n",
    "\n",
    "for e in el:\n",
    "    # Extract review text\n",
    "    review = e.select_one(\"#module_product_review > div > div > div:nth-child(3) > div.mod-reviews > div > div.item-content > div.content\")\n",
    "    review_text = review.text.strip() if review else \"\"\n",
    "\n",
    "    # Extract and calculate rating\n",
    "    stars = e.select_one('#module_product_review > div > div > div:nth-child(3) > div.mod-reviews > div > div.top > div')\n",
    "    rating = 0\n",
    "    if stars:\n",
    "        for star in stars.find_all('img'):\n",
    "            if star['src'] == src_plus_one:\n",
    "                rating += 1\n",
    "            elif star['src'] == src_plus_zero:\n",
    "                rating += 0\n",
    "\n",
    "    # Extract review date\n",
    "    date_element = e.select_one('#module_product_review > div > div > div:nth-child(3) > div.mod-reviews > div > div.top > span')\n",
    "    date = date_element.text.strip() if date_element else \"\"\n",
    "\n",
    "    # Extract reviewer name\n",
    "    name_element = e.select_one('#module_product_review > div > div > div:nth-child(3) > div.mod-reviews > div > div.middle > span:nth-child(1)')\n",
    "    name = name_element.text.strip() if name_element else \"\"\n",
    "\n",
    "    # Append the extracted data to records\n",
    "    records.append([name, rating, date, review_text])"
   ]
  },
  {
   "cell_type": "code",
   "execution_count": null,
   "metadata": {},
   "outputs": [],
   "source": [
    "len(records)"
   ]
  },
  {
   "cell_type": "code",
   "execution_count": null,
   "metadata": {},
   "outputs": [],
   "source": [
    "#ทำเป็น DataFrame\n",
    "df = pd.DataFrame(records, columns=['name','rating','date','review_text']) # ใส้ชื่อ Columns ทั้งหมด\n",
    "df"
   ]
  },
  {
   "cell_type": "code",
   "execution_count": null,
   "metadata": {},
   "outputs": [],
   "source": [
    "#ใช้ Selenium ในการกดปุ่มเพื่อไปหน้าถัดไป\n",
    "next_button = driver.find_element_by_xpath('/html/body/div[1]/div/div[3]/div/div/div[2]/div[2]/div[3]/div/button[8]')\n",
    "next_button.click()"
   ]
  },
  {
   "cell_type": "code",
   "execution_count": 18,
   "metadata": {},
   "outputs": [
    {
     "name": "stdout",
     "output_type": "stream",
     "text": [
      "0\n",
      "1\n",
      "2\n",
      "3\n",
      "4\n",
      "5\n",
      "6\n",
      "7\n",
      "8\n",
      "9\n",
      "10\n",
      "11\n",
      "12\n",
      "13\n",
      "14\n",
      "15\n",
      "16\n",
      "17\n",
      "18\n",
      "19\n",
      "20\n",
      "21\n",
      "22\n",
      "23\n",
      "24\n"
     ]
    }
   ],
   "source": [
    "# การ Scrape ข้อมูลจากหลายหน้าของ Web Shopee\n",
    "records=[]\n",
    "for i in range(25):\n",
    "    data = driver.page_source\n",
    "    soup = bs4.BeautifulSoup(data)\n",
    "    el=soup.select(\"#module_product_review > div > div > div:nth-child(3) > div.mod-reviews > div\")\n",
    "    # Define star rating image sources\n",
    "    src_plus_one = \"//img.lazcdn.com/g/tps/tfs/TB19ZvEgfDH8KJjy1XcXXcpdXXa-64-64.png\"\n",
    "    src_plus_zero = \"//img.lazcdn.com/g/tps/tfs/TB18ZvEgfDH8KJjy1XcXXcpdXXa-64-64.png\"\n",
    "\n",
    "    for e in el:\n",
    "        # Extract review text\n",
    "        review = e.select_one(\"#module_product_review > div > div > div:nth-child(3) > div.mod-reviews > div > div.item-content > div.content\")\n",
    "        review_text = review.text.strip() if review else \"\"\n",
    "\n",
    "        # Extract and calculate rating\n",
    "        stars = e.select_one('#module_product_review > div > div > div:nth-child(3) > div.mod-reviews > div > div.top > div')\n",
    "        rating = 0\n",
    "        if stars:\n",
    "            for star in stars.find_all('img'):\n",
    "                if star['src'] == src_plus_one:\n",
    "                    rating += 1\n",
    "                elif star['src'] == src_plus_zero:\n",
    "                    rating += 0\n",
    "\n",
    "        # Extract review date\n",
    "        date_element = e.select_one('#module_product_review > div > div > div:nth-child(3) > div.mod-reviews > div > div.top > span')\n",
    "        date = date_element.text.strip() if date_element else \"\"\n",
    "\n",
    "        # Extract reviewer name\n",
    "        name_element = e.select_one('#module_product_review > div > div > div:nth-child(3) > div.mod-reviews > div > div.middle > span:nth-child(1)')\n",
    "        name = name_element.text.strip() if name_element else \"\"\n",
    "\n",
    "        # Append the extracted data to records\n",
    "        records.append([name, rating, date, review_text])\n",
    "\n",
    "    wait = WebDriverWait(driver, 20)\n",
    "    next_button = wait.until(EC.element_to_be_clickable((By.XPATH, '/html/body/div[4]/div/div[10]/div[1]/div[2]/div/div/div/div[3]/div[2]/div/button[2]')))\n",
    "    next_button.click()\n",
    "    time.sleep(15)\n",
    "    print(i)\n"
   ]
  },
  {
   "cell_type": "code",
   "execution_count": 23,
   "metadata": {},
   "outputs": [
    {
     "data": {
      "text/html": [
       "<div>\n",
       "<style scoped>\n",
       "    .dataframe tbody tr th:only-of-type {\n",
       "        vertical-align: middle;\n",
       "    }\n",
       "\n",
       "    .dataframe tbody tr th {\n",
       "        vertical-align: top;\n",
       "    }\n",
       "\n",
       "    .dataframe thead th {\n",
       "        text-align: right;\n",
       "    }\n",
       "</style>\n",
       "<table border=\"1\" class=\"dataframe\">\n",
       "  <thead>\n",
       "    <tr style=\"text-align: right;\">\n",
       "      <th></th>\n",
       "      <th>no</th>\n",
       "      <th>name</th>\n",
       "      <th>rating</th>\n",
       "      <th>date</th>\n",
       "      <th>review_text</th>\n",
       "    </tr>\n",
       "  </thead>\n",
       "  <tbody>\n",
       "    <tr>\n",
       "      <th>0</th>\n",
       "      <td>1</td>\n",
       "      <td>จ***.</td>\n",
       "      <td>5</td>\n",
       "      <td>2 สัปดาห์ก่อน</td>\n",
       "      <td>ร้านค้าจัดส่งสินค้าได้รวดเร็วมาก การแพ็คสินค้า...</td>\n",
       "    </tr>\n",
       "    <tr>\n",
       "      <th>1</th>\n",
       "      <td>2</td>\n",
       "      <td>P***i</td>\n",
       "      <td>5</td>\n",
       "      <td>23 มิ.ย. 2024</td>\n",
       "      <td>สะใจมากกันแดดขวดนี้ปริมาณ 90 ml. กดมาได้ในราคา...</td>\n",
       "    </tr>\n",
       "    <tr>\n",
       "      <th>2</th>\n",
       "      <td>3</td>\n",
       "      <td>นิตยา เ.</td>\n",
       "      <td>5</td>\n",
       "      <td>4 สัปดาห์ก่อน</td>\n",
       "      <td>สูตรที่ยาวนาน, อ่อนโยนต่อผิวแพ้ง่าย, รู้สึกสดช...</td>\n",
       "    </tr>\n",
       "    <tr>\n",
       "      <th>3</th>\n",
       "      <td>4</td>\n",
       "      <td>g***t</td>\n",
       "      <td>5</td>\n",
       "      <td>18 ก.ค. 2024</td>\n",
       "      <td>สินค้า คุณภาพดีสมราคาดีเลย การจัดส่ง ไม่ช้ามาก...</td>\n",
       "    </tr>\n",
       "    <tr>\n",
       "      <th>4</th>\n",
       "      <td>5</td>\n",
       "      <td>พิณพินัช บ.</td>\n",
       "      <td>5</td>\n",
       "      <td>04 มิ.ย. 2024</td>\n",
       "      <td>อ่อนโยนต่อผิวที่แพ้ง่าย, ซึมเข้าสู่ผิวได้อย่าง...</td>\n",
       "    </tr>\n",
       "    <tr>\n",
       "      <th>...</th>\n",
       "      <td>...</td>\n",
       "      <td>...</td>\n",
       "      <td>...</td>\n",
       "      <td>...</td>\n",
       "      <td>...</td>\n",
       "    </tr>\n",
       "    <tr>\n",
       "      <th>120</th>\n",
       "      <td>121</td>\n",
       "      <td>T***N</td>\n",
       "      <td>5</td>\n",
       "      <td>20 พ.ย. 2023</td>\n",
       "      <td>ได้รับสินค้าถูกต้อง ตรงตามที่สั่ง ส่งสินค้าให้...</td>\n",
       "    </tr>\n",
       "    <tr>\n",
       "      <th>121</th>\n",
       "      <td>122</td>\n",
       "      <td>นาง ผ.</td>\n",
       "      <td>5</td>\n",
       "      <td>25 ก.ค. 2024</td>\n",
       "      <td>ไม่ทำให้ผิวขาวและหมองคล้ำ, ไม่ทำให้เกิดสิว, ใช...</td>\n",
       "    </tr>\n",
       "    <tr>\n",
       "      <th>122</th>\n",
       "      <td>123</td>\n",
       "      <td>โ***.</td>\n",
       "      <td>5</td>\n",
       "      <td>04 ก.ค. 2024</td>\n",
       "      <td>สินค้าคถณภาพดีมากครับ ราคาถูกกว่าในห้าง การแพ้...</td>\n",
       "    </tr>\n",
       "    <tr>\n",
       "      <th>123</th>\n",
       "      <td>124</td>\n",
       "      <td>S***.</td>\n",
       "      <td>5</td>\n",
       "      <td>06 พ.ค. 2024</td>\n",
       "      <td>ใช้ง่ายและผสมเข้ากับผิวได้ดี, ซึมเข้าสู่ผิวได้...</td>\n",
       "    </tr>\n",
       "    <tr>\n",
       "      <th>124</th>\n",
       "      <td>125</td>\n",
       "      <td>T***.</td>\n",
       "      <td>5</td>\n",
       "      <td>10 เม.ย. 2024</td>\n",
       "      <td>ส่งเร็วมาก สินค้าตรงตามที่สั่ง แต่ยังไม่ได้ลอง...</td>\n",
       "    </tr>\n",
       "  </tbody>\n",
       "</table>\n",
       "<p>125 rows × 5 columns</p>\n",
       "</div>"
      ],
      "text/plain": [
       "      no         name  rating           date  \\\n",
       "0      1        จ***.       5  2 สัปดาห์ก่อน   \n",
       "1      2        P***i       5  23 มิ.ย. 2024   \n",
       "2      3     นิตยา เ.       5  4 สัปดาห์ก่อน   \n",
       "3      4        g***t       5   18 ก.ค. 2024   \n",
       "4      5  พิณพินัช บ.       5  04 มิ.ย. 2024   \n",
       "..   ...          ...     ...            ...   \n",
       "120  121        T***N       5   20 พ.ย. 2023   \n",
       "121  122       นาง ผ.       5   25 ก.ค. 2024   \n",
       "122  123        โ***.       5   04 ก.ค. 2024   \n",
       "123  124        S***.       5   06 พ.ค. 2024   \n",
       "124  125        T***.       5  10 เม.ย. 2024   \n",
       "\n",
       "                                           review_text  \n",
       "0    ร้านค้าจัดส่งสินค้าได้รวดเร็วมาก การแพ็คสินค้า...  \n",
       "1    สะใจมากกันแดดขวดนี้ปริมาณ 90 ml. กดมาได้ในราคา...  \n",
       "2    สูตรที่ยาวนาน, อ่อนโยนต่อผิวแพ้ง่าย, รู้สึกสดช...  \n",
       "3    สินค้า คุณภาพดีสมราคาดีเลย การจัดส่ง ไม่ช้ามาก...  \n",
       "4    อ่อนโยนต่อผิวที่แพ้ง่าย, ซึมเข้าสู่ผิวได้อย่าง...  \n",
       "..                                                 ...  \n",
       "120  ได้รับสินค้าถูกต้อง ตรงตามที่สั่ง ส่งสินค้าให้...  \n",
       "121  ไม่ทำให้ผิวขาวและหมองคล้ำ, ไม่ทำให้เกิดสิว, ใช...  \n",
       "122  สินค้าคถณภาพดีมากครับ ราคาถูกกว่าในห้าง การแพ้...  \n",
       "123  ใช้ง่ายและผสมเข้ากับผิวได้ดี, ซึมเข้าสู่ผิวได้...  \n",
       "124  ส่งเร็วมาก สินค้าตรงตามที่สั่ง แต่ยังไม่ได้ลอง...  \n",
       "\n",
       "[125 rows x 5 columns]"
      ]
     },
     "execution_count": 23,
     "metadata": {},
     "output_type": "execute_result"
    }
   ],
   "source": [
    "#ทำเป็น DataFrame\n",
    "# สร้าง DataFrame และเพิ่มลำดับแถว\n",
    "df = pd.DataFrame(records, columns=['name', 'rating', 'date', 'review_text'])\n",
    "\n",
    "# เพิ่มคอลัมน์ลำดับแถว (Row Index) โดยใช้ range\n",
    "df['no'] = range(1, len(df) + 1)\n",
    "\n",
    "# แสดง DataFrame ที่มีลำดับแถว\n",
    "df = df[['no', 'name', 'rating', 'date', 'review_text']]\n",
    "df"
   ]
  },
  {
   "cell_type": "code",
   "execution_count": 24,
   "metadata": {},
   "outputs": [],
   "source": [
    "df.to_csv('Biore UV Aqua Rich Watery Gel_5star.csv', index=False)"
   ]
  },
  {
   "cell_type": "markdown",
   "metadata": {},
   "source": [
    "# สูตรที่สามารถนำไปใช้ได้"
   ]
  },
  {
   "cell_type": "code",
   "execution_count": 97,
   "metadata": {},
   "outputs": [],
   "source": [
    "import pandas as pd\n",
    "from selenium import webdriver\n",
    "from selenium.webdriver.support.ui import WebDriverWait\n",
    "from selenium.webdriver.support import expected_conditions as EC\n",
    "from selenium.webdriver.chrome.service import Service\n",
    "from selenium.webdriver.chrome.options import Options\n",
    "from selenium.webdriver.common.by import By\n",
    "from selenium.webdriver.common.keys import Keys\n",
    "import bs4\n",
    "import time\n",
    "import re"
   ]
  },
  {
   "cell_type": "code",
   "execution_count": 98,
   "metadata": {},
   "outputs": [],
   "source": [
    "# ตั้งแต่เริ่มจนจบ\n",
    "# Set up Chrome options\n",
    "options = Options()\n",
    "options.binary_location = \"C:\\\\Program Files\\\\Google\\\\Chrome\\\\Application\\\\chrome.exe\"\n",
    "# Specify the path to ChromeDriver (NOT geckodriver, which is for Firefox)\n",
    "service = Service(r'C:\\Users\\earns\\Desktop\\Shopee_Web_Scarping\\chromedriver.exe')\n",
    "# Initialize WebDriver with the service and options\n",
    "driver = webdriver.Chrome(service=service, options=options)\n",
    "# Open lazada website\n",
    "driver.get('https://www.lazada.co.th/products/90-biore-uv-aqua-rich-watery-gel-spf50-pa-90ml-i228851585.html?spm=a2o4m.searchlist.list.11.592a32030G8dMB')\n"
   ]
  },
  {
   "cell_type": "code",
   "execution_count": null,
   "metadata": {},
   "outputs": [],
   "source": [
    "\n",
    "###\n",
    "\n",
    "#Zoom out เพื่อให้ load ทั่วหน้าจอ\n",
    "driver.execute_script(\"document.body.style.zoom='10%'\")\n",
    "\n",
    "###\n",
    "# การ Scrape ข้อมูลจากหลายหน้าของ Web Shopee\n",
    "records=[]\n",
    "for i in range(2):\n",
    "    data = driver.page_source\n",
    "    soup = bs4.BeautifulSoup(data)\n",
    "    el=soup.select(\"#module_product_review > div > div > div:nth-child(3) > div.mod-reviews > div\")\n",
    "    # Define star rating image sources\n",
    "    src_plus_one = \"//img.lazcdn.com/g/tps/tfs/TB19ZvEgfDH8KJjy1XcXXcpdXXa-64-64.png\"\n",
    "    src_plus_zero = \"//img.lazcdn.com/g/tps/tfs/TB18ZvEgfDH8KJjy1XcXXcpdXXa-64-64.png\"\n",
    "\n",
    "    for e in el:\n",
    "        # Extract review text\n",
    "        review = e.select_one(\"#module_product_review > div > div > div:nth-child(3) > div.mod-reviews > div > div.item-content > div.content\")\n",
    "        review_text = review.text.strip() if review else \"\"\n",
    "\n",
    "        # Extract and calculate rating\n",
    "        stars = e.select_one('#module_product_review > div > div > div:nth-child(3) > div.mod-reviews > div > div.top > div')\n",
    "        rating = 0\n",
    "        if stars:\n",
    "            for star in stars.find_all('img'):\n",
    "                if star['src'] == src_plus_one:\n",
    "                    rating += 1\n",
    "                elif star['src'] == src_plus_zero:\n",
    "                    rating += 0\n",
    "\n",
    "        # Extract review date\n",
    "        date_element = e.select_one('#module_product_review > div > div > div:nth-child(3) > div.mod-reviews > div > div.top > span')\n",
    "        date = date_element.text.strip() if date_element else \"\"\n",
    "\n",
    "        # Extract reviewer name\n",
    "        name_element = e.select_one('#module_product_review > div > div > div:nth-child(3) > div.mod-reviews > div > div.middle > span:nth-child(1)')\n",
    "        name = name_element.text.strip() if name_element else \"\"\n",
    "\n",
    "        # Append the extracted data to records\n",
    "        records.append([name, rating, date, review_text])\n",
    "\n",
    "    wait = WebDriverWait(driver, 20)\n",
    "    next_button = wait.until(EC.element_to_be_clickable((By.XPATH, '/html/body/div[4]/div/div[10]/div[1]/div[2]/div/div/div/div[3]/div[2]/div/button[2]')))\n",
    "    next_button.click()\n",
    "\n",
    "records"
   ]
  },
  {
   "cell_type": "code",
   "execution_count": null,
   "metadata": {},
   "outputs": [],
   "source": [
    "len(records)"
   ]
  },
  {
   "cell_type": "code",
   "execution_count": null,
   "metadata": {},
   "outputs": [],
   "source": [
    "df = pd.DataFrame(records, columns=['itemname','price','qty','province'])\n",
    "df"
   ]
  },
  {
   "cell_type": "code",
   "execution_count": 91,
   "metadata": {},
   "outputs": [],
   "source": [
    "df.to_csv('output.csv', index=False)"
   ]
  }
 ],
 "metadata": {
  "interpreter": {
   "hash": "5ecb3a2dd521a260efab0c8465685b65d423102f6a05d3ed42acaa91136ba2a0"
  },
  "kernelspec": {
   "display_name": "Python 3.8.5 ('base')",
   "language": "python",
   "name": "python3"
  },
  "language_info": {
   "codemirror_mode": {
    "name": "ipython",
    "version": 3
   },
   "file_extension": ".py",
   "mimetype": "text/x-python",
   "name": "python",
   "nbconvert_exporter": "python",
   "pygments_lexer": "ipython3",
   "version": "3.12.4"
  },
  "orig_nbformat": 4
 },
 "nbformat": 4,
 "nbformat_minor": 2
}
