{
 "cells": [
  {
   "cell_type": "markdown",
   "metadata": {},
   "source": [
    "# Scrape Data from Shopee with beautifulsoup and selenium\n",
    "### Data เพื่อการทำ Marketing ของผู้ขาย ซึ่งประกอบไปด้วย\n",
    "- name, review, rating, date"
   ]
  },
  {
   "cell_type": "markdown",
   "metadata": {},
   "source": [
    "!pip install selenium\n",
    "!pip install bs4\n",
    "!pip install pandas"
   ]
  },
  {
   "cell_type": "markdown",
   "metadata": {},
   "source": [
    "# Code ที่ต้อง Import"
   ]
  },
  {
   "cell_type": "code",
   "execution_count": 15,
   "metadata": {},
   "outputs": [],
   "source": [
    "import pandas as pd\n",
    "from selenium import webdriver\n",
    "from selenium.webdriver.support.ui import WebDriverWait\n",
    "from selenium.webdriver.support import expected_conditions as EC\n",
    "from selenium.webdriver.chrome.service import Service\n",
    "from selenium.webdriver.chrome.options import Options\n",
    "from selenium.webdriver.common.by import By\n",
    "from selenium.webdriver.common.keys import Keys\n",
    "import os  \n",
    "from datetime import datetime \n",
    "import bs4\n",
    "import time\n",
    "import re"
   ]
  },
  {
   "cell_type": "code",
   "execution_count": 16,
   "metadata": {},
   "outputs": [],
   "source": [
    "#กำหนดตัวแปร\n",
    "#link ที่ต้องการดึงข้อมูล\n",
    "link = 'https://www.lazada.co.th/products/90-biore-uv-aqua-rich-watery-gel-spf50-pa-90ml-i228851585.html?spm=a2o4m.searchlist.list.11.592a32030G8dMB'\n",
    "#ชื่อ file output\n",
    "output = 'Biore UV Aqua Rich Watery Gel'\n",
    "# Set up Chrome binary_location\n",
    "location = 'C:\\\\Program Files\\\\Google\\\\Chrome\\\\Application\\\\chrome.exe'\n",
    "#the service path to ChromeDriver\n",
    "service_path = r'C:\\Users\\earns\\Desktop\\Shopee_Web_Scarping\\chromedriver.exe'"
   ]
  },
  {
   "cell_type": "code",
   "execution_count": 17,
   "metadata": {},
   "outputs": [],
   "source": [
    "# Set up Chrome options\n",
    "options = Options()\n",
    "options.binary_location = location\n",
    "\n",
    "# Specify the path to ChromeDriver (NOT geckodriver, which is for Firefox)\n",
    "service = Service(service_path)\n",
    "\n",
    "# Initialize WebDriver with the service and options\n",
    "driver = webdriver.Chrome(service=service, options=options)\n",
    "\n",
    "# Open lazada website\n",
    "driver.get(link)\n",
    "\n",
    "#wait foe 35s."
   ]
  },
  {
   "cell_type": "code",
   "execution_count": 18,
   "metadata": {},
   "outputs": [],
   "source": [
    "#Zoom out เพื่อให้ load ทั่วหน้าจอ\n",
    "driver.execute_script(\"document.body.style.zoom='10%'\")"
   ]
  },
  {
   "cell_type": "code",
   "execution_count": 19,
   "metadata": {},
   "outputs": [],
   "source": [
    "records=[]"
   ]
  },
  {
   "cell_type": "code",
   "execution_count": 20,
   "metadata": {},
   "outputs": [
    {
     "name": "stdout",
     "output_type": "stream",
     "text": [
      "0\n",
      "1\n",
      "2\n",
      "3\n",
      "4\n",
      "5\n",
      "6\n",
      "7\n",
      "8\n",
      "9\n",
      "10\n",
      "11\n",
      "12\n",
      "13\n",
      "14\n",
      "15\n",
      "16\n",
      "17\n",
      "18\n",
      "19\n",
      "20\n",
      "21\n",
      "22\n",
      "23\n",
      "24\n",
      "25\n",
      "26\n",
      "27\n",
      "28\n",
      "29\n"
     ]
    }
   ],
   "source": [
    "# การ Scrape ข้อมูลจากหลายหน้าของ Web Shopee\n",
    "for i in range(30):\n",
    "    data = driver.page_source\n",
    "    soup = bs4.BeautifulSoup(data)\n",
    "    el=soup.select(\"#module_product_review > div > div > div:nth-child(3) > div.mod-reviews > div\")\n",
    "    # Define star rating image sources\n",
    "    src_plus_one = \"//img.lazcdn.com/g/tps/tfs/TB19ZvEgfDH8KJjy1XcXXcpdXXa-64-64.png\"\n",
    "    src_plus_zero = \"//img.lazcdn.com/g/tps/tfs/TB18ZvEgfDH8KJjy1XcXXcpdXXa-64-64.png\"\n",
    "\n",
    "    for e in el:\n",
    "        # Extract review text\n",
    "        review = e.select_one(\"#module_product_review > div > div > div:nth-child(3) > div.mod-reviews > div > div.item-content > div.content\")\n",
    "        review_text = review.text.strip() if review else \"\"\n",
    "\n",
    "        # Extract and calculate rating\n",
    "        stars = e.select_one('#module_product_review > div > div > div:nth-child(3) > div.mod-reviews > div > div.top > div')\n",
    "        rating = 0\n",
    "        if stars:\n",
    "            for star in stars.find_all('img'):\n",
    "                if star['src'] == src_plus_one:\n",
    "                    rating += 1\n",
    "                elif star['src'] == src_plus_zero:\n",
    "                    rating += 0\n",
    "\n",
    "        # Extract review date\n",
    "        date_element = e.select_one('#module_product_review > div > div > div:nth-child(3) > div.mod-reviews > div > div.top > span')\n",
    "        date = date_element.text.strip() if date_element else \"\"\n",
    "\n",
    "        # Extract reviewer name\n",
    "        name_element = e.select_one('#module_product_review > div > div > div:nth-child(3) > div.mod-reviews > div > div.middle > span:nth-child(1)')\n",
    "        name = name_element.text.strip() if name_element else \"\"\n",
    "\n",
    "        # Append the extracted data to records\n",
    "        records.append([name, rating, date, review_text])\n",
    "\n",
    "    wait = WebDriverWait(driver, 20)\n",
    "    next_button = wait.until(EC.element_to_be_clickable((By.XPATH, '/html/body/div[4]/div/div[10]/div[1]/div[2]/div/div/div/div[3]/div[2]/div/button[2]')))\n",
    "    next_button.click()\n",
    "    time.sleep(20)\n",
    "    print(i) #print loop\n"
   ]
  },
  {
   "cell_type": "code",
   "execution_count": null,
   "metadata": {},
   "outputs": [],
   "source": [
    "records"
   ]
  },
  {
   "cell_type": "code",
   "execution_count": 18,
   "metadata": {},
   "outputs": [],
   "source": [
    "#เลือก filter_sort review1\n",
    "wait = WebDriverWait(driver, 20)\n",
    "filterStar = wait.until(EC.presence_of_element_located((By.XPATH, '/html/body/div[4]/div/div[10]/div[1]/div[2]/div/div/div/div[2]/div/div[2]')))\n",
    "filterStar.click()"
   ]
  },
  {
   "cell_type": "code",
   "execution_count": 19,
   "metadata": {},
   "outputs": [],
   "source": [
    "#เลือก sort เป็นดาวน้อยไปดาวมาก\n",
    "selectStar = wait.until(EC.element_to_be_clickable((By.XPATH, '/html/body/div[8]/div/div/ul/li[4]')))\n",
    "selectStar.click()"
   ]
  },
  {
   "cell_type": "code",
   "execution_count": 12,
   "metadata": {},
   "outputs": [],
   "source": [
    "# สร้าง DataFrame และเพิ่มลำดับแถว\n",
    "df = pd.DataFrame(records, columns=['name', 'rating', 'date', 'review_text'])\n",
    "\n",
    "# เพิ่มคอลัมน์ลำดับแถว (Row Index) โดยใช้ range\n",
    "df['no'] = range(1, len(df) + 1)\n",
    "\n",
    "# แสดง DataFrame ที่มีลำดับแถว\n",
    "df = df[['no', 'name', 'rating', 'date', 'review_text']]\n"
   ]
  },
  {
   "cell_type": "code",
   "execution_count": 13,
   "metadata": {},
   "outputs": [],
   "source": [
    "# รับเวลาปัจจุบัน  \n",
    "current_time = datetime.now().strftime(\"%Y%m%d_%H%M%S\")"
   ]
  },
  {
   "cell_type": "code",
   "execution_count": 14,
   "metadata": {},
   "outputs": [],
   "source": [
    "# บันทึก DataFrame ลงไฟล์ CSV\n",
    "csv_file = f'RawDataCSV/{output}_{current_time}.csv'\n",
    "df.to_csv(csv_file, index=False)\n",
    "\n",
    "# บันทึก DataFrame ลงไฟล์ Excel\n",
    "excel_file = f'RawDataExel/{output}_{current_time}.xlsx'\n",
    "df.to_excel(excel_file, index=False)"
   ]
  }
 ],
 "metadata": {
  "interpreter": {
   "hash": "5ecb3a2dd521a260efab0c8465685b65d423102f6a05d3ed42acaa91136ba2a0"
  },
  "kernelspec": {
   "display_name": "Python 3.8.5 ('base')",
   "language": "python",
   "name": "python3"
  },
  "language_info": {
   "codemirror_mode": {
    "name": "ipython",
    "version": 3
   },
   "file_extension": ".py",
   "mimetype": "text/x-python",
   "name": "python",
   "nbconvert_exporter": "python",
   "pygments_lexer": "ipython3",
   "version": "3.12.4"
  },
  "orig_nbformat": 4
 },
 "nbformat": 4,
 "nbformat_minor": 2
}
